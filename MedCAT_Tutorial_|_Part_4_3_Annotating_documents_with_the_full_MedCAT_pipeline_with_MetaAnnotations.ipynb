{
  "nbformat": 4,
  "nbformat_minor": 0,
  "metadata": {
    "colab": {
      "name": "MedCAT Tutorial  | Part 4.3 - Annotating documents with the full MedCAT pipeline with MetaAnnotations.ipynb",
      "provenance": [],
      "collapsed_sections": [],
      "include_colab_link": true
    },
    "kernelspec": {
      "display_name": "Python 3",
      "name": "python3"
    }
  },
  "cells": [
    {
      "cell_type": "markdown",
      "metadata": {
        "id": "view-in-github",
        "colab_type": "text"
      },
      "source": [
        "<a href=\"https://colab.research.google.com/github/sophie-w/COVID-MDS/blob/master/MedCAT_Tutorial_%7C_Part_4_3_Annotating_documents_with_the_full_MedCAT_pipeline_with_MetaAnnotations.ipynb\" target=\"_parent\"><img src=\"https://colab.research.google.com/assets/colab-badge.svg\" alt=\"Open In Colab\"/></a>"
      ]
    },
    {
      "cell_type": "code",
      "metadata": {
        "colab": {
          "background_save": true,
          "base_uri": "https://localhost:8080/"
        },
        "id": "Xyp9LzZEVEd7",
        "outputId": "59dbc9d4-52e4-4081-b8d4-906ee857597a"
      },
      "source": [
        "! pip install --upgrade medcat\n",
        "# Get the scispacy model\n",
        "! pip install https://s3-us-west-2.amazonaws.com/ai2-s2-scispacy/releases/v0.2.4/en_core_sci_md-0.2.4.tar.gz"
      ],
      "execution_count": null,
      "outputs": [
        {
          "output_type": "stream",
          "text": [
            "Collecting medcat\n",
            "\u001b[?25l  Downloading https://files.pythonhosted.org/packages/ca/b5/62d61238e8929b5ee718e7bb8fed7559702f10c32c3309ebb23d075c64bd/medcat-1.0.33-py3-none-any.whl (125kB)\n",
            "\u001b[K     |████████████████████████████████| 133kB 4.2MB/s \n",
            "\u001b[?25hRequirement already satisfied, skipping upgrade: sklearn~=0.0 in /usr/local/lib/python3.7/dist-packages (from medcat) (0.0)\n",
            "Collecting elasticsearch~=7.10\n",
            "\u001b[?25l  Downloading https://files.pythonhosted.org/packages/ab/b1/58cfb0bf54e29c20669d6e588496fb7fe8b54f53bc238be4cb0a185a1e76/elasticsearch-7.13.1-py2.py3-none-any.whl (354kB)\n",
            "\u001b[K     |████████████████████████████████| 358kB 23.5MB/s \n",
            "\u001b[?25hRequirement already satisfied, skipping upgrade: pandas~=1.0 in /usr/local/lib/python3.7/dist-packages (from medcat) (1.1.5)\n",
            "Requirement already satisfied, skipping upgrade: torch~=1.8.1 in /usr/local/lib/python3.7/dist-packages (from medcat) (1.8.1+cu101)\n",
            "Requirement already satisfied, skipping upgrade: dill~=0.3.3 in /usr/local/lib/python3.7/dist-packages (from medcat) (0.3.3)\n",
            "Collecting numpy~=1.20\n",
            "\u001b[?25l  Downloading https://files.pythonhosted.org/packages/a5/42/560d269f604d3e186a57c21a363e77e199358d054884e61b73e405dd217c/numpy-1.20.3-cp37-cp37m-manylinux_2_12_x86_64.manylinux2010_x86_64.whl (15.3MB)\n",
            "\u001b[K     |████████████████████████████████| 15.3MB 250kB/s \n",
            "\u001b[?25hCollecting transformers~=4.5.1\n",
            "\u001b[?25l  Downloading https://files.pythonhosted.org/packages/d8/b2/57495b5309f09fa501866e225c84532d1fd89536ea62406b2181933fb418/transformers-4.5.1-py3-none-any.whl (2.1MB)\n",
            "\u001b[K     |████████████████████████████████| 2.1MB 41.7MB/s \n",
            "\u001b[?25hCollecting gensim~=3.8\n",
            "\u001b[?25l  Downloading https://files.pythonhosted.org/packages/5c/4e/afe2315e08a38967f8a3036bbe7e38b428e9b7a90e823a83d0d49df1adf5/gensim-3.8.3-cp37-cp37m-manylinux1_x86_64.whl (24.2MB)\n",
            "\u001b[K     |████████████████████████████████| 24.2MB 122kB/s \n",
            "\u001b[?25hRequirement already satisfied, skipping upgrade: Flask~=1.1 in /usr/local/lib/python3.7/dist-packages (from medcat) (1.1.4)\n",
            "Collecting scipy~=1.5\n",
            "\u001b[?25l  Downloading https://files.pythonhosted.org/packages/7d/e8/43ffca541d2f208d516296950b25fe1084b35c2881f4d444c1346ca75815/scipy-1.6.3-cp37-cp37m-manylinux1_x86_64.whl (27.4MB)\n",
            "\u001b[K     |████████████████████████████████| 27.4MB 1.4MB/s \n",
            "\u001b[?25hCollecting datasets~=1.6.0\n",
            "\u001b[?25l  Downloading https://files.pythonhosted.org/packages/46/1a/b9f9b3bfef624686ae81c070f0a6bb635047b17cdb3698c7ad01281e6f9a/datasets-1.6.2-py3-none-any.whl (221kB)\n",
            "\u001b[K     |████████████████████████████████| 225kB 57.6MB/s \n",
            "\u001b[?25hCollecting spacy==2.3.4\n",
            "\u001b[?25l  Downloading https://files.pythonhosted.org/packages/51/92/ce37391be0980e03cdef9dab057c95561dacb36937bd6941c3204b40f5ca/spacy-2.3.4-cp37-cp37m-manylinux2014_x86_64.whl (10.4MB)\n",
            "\u001b[K     |████████████████████████████████| 10.4MB 32.3MB/s \n",
            "\u001b[?25hRequirement already satisfied, skipping upgrade: scikit-learn in /usr/local/lib/python3.7/dist-packages (from sklearn~=0.0->medcat) (0.22.2.post1)\n",
            "Requirement already satisfied, skipping upgrade: certifi in /usr/local/lib/python3.7/dist-packages (from elasticsearch~=7.10->medcat) (2021.5.30)\n",
            "Requirement already satisfied, skipping upgrade: urllib3<2,>=1.21.1 in /usr/local/lib/python3.7/dist-packages (from elasticsearch~=7.10->medcat) (1.24.3)\n",
            "Requirement already satisfied, skipping upgrade: pytz>=2017.2 in /usr/local/lib/python3.7/dist-packages (from pandas~=1.0->medcat) (2018.9)\n",
            "Requirement already satisfied, skipping upgrade: python-dateutil>=2.7.3 in /usr/local/lib/python3.7/dist-packages (from pandas~=1.0->medcat) (2.8.1)\n",
            "Requirement already satisfied, skipping upgrade: typing-extensions in /usr/local/lib/python3.7/dist-packages (from torch~=1.8.1->medcat) (3.7.4.3)\n",
            "Collecting sacremoses\n",
            "\u001b[?25l  Downloading https://files.pythonhosted.org/packages/75/ee/67241dc87f266093c533a2d4d3d69438e57d7a90abb216fa076e7d475d4a/sacremoses-0.0.45-py3-none-any.whl (895kB)\n",
            "\u001b[K     |████████████████████████████████| 901kB 33.9MB/s \n",
            "\u001b[?25hRequirement already satisfied, skipping upgrade: filelock in /usr/local/lib/python3.7/dist-packages (from transformers~=4.5.1->medcat) (3.0.12)\n",
            "Requirement already satisfied, skipping upgrade: importlib-metadata; python_version < \"3.8\" in /usr/local/lib/python3.7/dist-packages (from transformers~=4.5.1->medcat) (4.5.0)\n",
            "Requirement already satisfied, skipping upgrade: requests in /usr/local/lib/python3.7/dist-packages (from transformers~=4.5.1->medcat) (2.23.0)\n",
            "Requirement already satisfied, skipping upgrade: regex!=2019.12.17 in /usr/local/lib/python3.7/dist-packages (from transformers~=4.5.1->medcat) (2019.12.20)\n",
            "Collecting tokenizers<0.11,>=0.10.1\n",
            "\u001b[?25l  Downloading https://files.pythonhosted.org/packages/d4/e2/df3543e8ffdab68f5acc73f613de9c2b155ac47f162e725dcac87c521c11/tokenizers-0.10.3-cp37-cp37m-manylinux_2_5_x86_64.manylinux1_x86_64.manylinux_2_12_x86_64.manylinux2010_x86_64.whl (3.3MB)\n",
            "\u001b[K     |████████████████████████████████| 3.3MB 26.9MB/s \n",
            "\u001b[?25hRequirement already satisfied, skipping upgrade: tqdm>=4.27 in /usr/local/lib/python3.7/dist-packages (from transformers~=4.5.1->medcat) (4.41.1)\n",
            "Requirement already satisfied, skipping upgrade: packaging in /usr/local/lib/python3.7/dist-packages (from transformers~=4.5.1->medcat) (20.9)\n",
            "Requirement already satisfied, skipping upgrade: six>=1.5.0 in /usr/local/lib/python3.7/dist-packages (from gensim~=3.8->medcat) (1.15.0)\n",
            "Requirement already satisfied, skipping upgrade: smart-open>=1.8.1 in /usr/local/lib/python3.7/dist-packages (from gensim~=3.8->medcat) (5.1.0)\n",
            "Requirement already satisfied, skipping upgrade: Werkzeug<2.0,>=0.15 in /usr/local/lib/python3.7/dist-packages (from Flask~=1.1->medcat) (1.0.1)\n",
            "Requirement already satisfied, skipping upgrade: itsdangerous<2.0,>=0.24 in /usr/local/lib/python3.7/dist-packages (from Flask~=1.1->medcat) (1.1.0)\n",
            "Requirement already satisfied, skipping upgrade: Jinja2<3.0,>=2.10.1 in /usr/local/lib/python3.7/dist-packages (from Flask~=1.1->medcat) (2.11.3)\n",
            "Requirement already satisfied, skipping upgrade: click<8.0,>=5.1 in /usr/local/lib/python3.7/dist-packages (from Flask~=1.1->medcat) (7.1.2)\n",
            "Collecting xxhash\n",
            "\u001b[?25l  Downloading https://files.pythonhosted.org/packages/7d/4f/0a862cad26aa2ed7a7cd87178cbbfa824fc1383e472d63596a0d018374e7/xxhash-2.0.2-cp37-cp37m-manylinux2010_x86_64.whl (243kB)\n",
            "\u001b[K     |████████████████████████████████| 245kB 44.2MB/s \n",
            "\u001b[?25hRequirement already satisfied, skipping upgrade: pyarrow>=1.0.0<4.0.0 in /usr/local/lib/python3.7/dist-packages (from datasets~=1.6.0->medcat) (3.0.0)\n",
            "Collecting fsspec\n",
            "\u001b[?25l  Downloading https://files.pythonhosted.org/packages/8e/d2/d05466997f7751a2c06a7a416b7d1f131d765f7916698d3fdcb3a4d037e5/fsspec-2021.6.0-py3-none-any.whl (114kB)\n",
            "\u001b[K     |████████████████████████████████| 122kB 45.5MB/s \n",
            "\u001b[?25hCollecting huggingface-hub<0.1.0\n",
            "  Downloading https://files.pythonhosted.org/packages/3c/e3/fb7b6aefaf0fc7b792cebbbd590b1895c022ab0ff27f389e1019c6f2e68a/huggingface_hub-0.0.10-py3-none-any.whl\n",
            "Requirement already satisfied, skipping upgrade: multiprocess in /usr/local/lib/python3.7/dist-packages (from datasets~=1.6.0->medcat) (0.70.11.1)\n",
            "Requirement already satisfied, skipping upgrade: cymem<2.1.0,>=2.0.2 in /usr/local/lib/python3.7/dist-packages (from spacy==2.3.4->medcat) (2.0.5)\n",
            "Requirement already satisfied, skipping upgrade: catalogue<1.1.0,>=0.0.7 in /usr/local/lib/python3.7/dist-packages (from spacy==2.3.4->medcat) (1.0.0)\n",
            "Requirement already satisfied, skipping upgrade: plac<1.2.0,>=0.9.6 in /usr/local/lib/python3.7/dist-packages (from spacy==2.3.4->medcat) (1.1.3)\n",
            "Requirement already satisfied, skipping upgrade: preshed<3.1.0,>=3.0.2 in /usr/local/lib/python3.7/dist-packages (from spacy==2.3.4->medcat) (3.0.5)\n",
            "Requirement already satisfied, skipping upgrade: wasabi<1.1.0,>=0.4.0 in /usr/local/lib/python3.7/dist-packages (from spacy==2.3.4->medcat) (0.8.2)\n",
            "Collecting thinc<7.5.0,>=7.4.1\n",
            "\u001b[?25l  Downloading https://files.pythonhosted.org/packages/9a/92/71ab278f865f7565c37ed6917d0f23342e4f9a0633013113bd435cf0a691/thinc-7.4.5-cp37-cp37m-manylinux2014_x86_64.whl (1.0MB)\n",
            "\u001b[K     |████████████████████████████████| 1.1MB 26.1MB/s \n",
            "\u001b[?25hRequirement already satisfied, skipping upgrade: srsly<1.1.0,>=1.0.2 in /usr/local/lib/python3.7/dist-packages (from spacy==2.3.4->medcat) (1.0.5)\n",
            "Requirement already satisfied, skipping upgrade: murmurhash<1.1.0,>=0.28.0 in /usr/local/lib/python3.7/dist-packages (from spacy==2.3.4->medcat) (1.0.5)\n",
            "Requirement already satisfied, skipping upgrade: blis<0.8.0,>=0.4.0; python_version >= \"3.6\" in /usr/local/lib/python3.7/dist-packages (from spacy==2.3.4->medcat) (0.4.1)\n",
            "Requirement already satisfied, skipping upgrade: setuptools in /usr/local/lib/python3.7/dist-packages (from spacy==2.3.4->medcat) (57.0.0)\n",
            "Requirement already satisfied, skipping upgrade: joblib>=0.11 in /usr/local/lib/python3.7/dist-packages (from scikit-learn->sklearn~=0.0->medcat) (1.0.1)\n",
            "Requirement already satisfied, skipping upgrade: zipp>=0.5 in /usr/local/lib/python3.7/dist-packages (from importlib-metadata; python_version < \"3.8\"->transformers~=4.5.1->medcat) (3.4.1)\n",
            "Requirement already satisfied, skipping upgrade: chardet<4,>=3.0.2 in /usr/local/lib/python3.7/dist-packages (from requests->transformers~=4.5.1->medcat) (3.0.4)\n",
            "Requirement already satisfied, skipping upgrade: idna<3,>=2.5 in /usr/local/lib/python3.7/dist-packages (from requests->transformers~=4.5.1->medcat) (2.10)\n",
            "Requirement already satisfied, skipping upgrade: pyparsing>=2.0.2 in /usr/local/lib/python3.7/dist-packages (from packaging->transformers~=4.5.1->medcat) (2.4.7)\n",
            "Requirement already satisfied, skipping upgrade: MarkupSafe>=0.23 in /usr/local/lib/python3.7/dist-packages (from Jinja2<3.0,>=2.10.1->Flask~=1.1->medcat) (2.0.1)\n",
            "\u001b[31mERROR: tensorflow 2.5.0 has requirement numpy~=1.19.2, but you'll have numpy 1.20.3 which is incompatible.\u001b[0m\n",
            "\u001b[31mERROR: datascience 0.10.6 has requirement folium==0.2.1, but you'll have folium 0.8.3 which is incompatible.\u001b[0m\n",
            "\u001b[31mERROR: albumentations 0.1.12 has requirement imgaug<0.2.7,>=0.2.5, but you'll have imgaug 0.2.9 which is incompatible.\u001b[0m\n",
            "Installing collected packages: elasticsearch, numpy, sacremoses, tokenizers, transformers, scipy, gensim, xxhash, fsspec, huggingface-hub, datasets, thinc, spacy, medcat\n",
            "  Found existing installation: numpy 1.19.5\n",
            "    Uninstalling numpy-1.19.5:\n",
            "      Successfully uninstalled numpy-1.19.5\n",
            "  Found existing installation: scipy 1.4.1\n",
            "    Uninstalling scipy-1.4.1:\n",
            "      Successfully uninstalled scipy-1.4.1\n",
            "  Found existing installation: gensim 3.6.0\n",
            "    Uninstalling gensim-3.6.0:\n",
            "      Successfully uninstalled gensim-3.6.0\n",
            "  Found existing installation: thinc 7.4.0\n",
            "    Uninstalling thinc-7.4.0:\n",
            "      Successfully uninstalled thinc-7.4.0\n",
            "  Found existing installation: spacy 2.2.4\n",
            "    Uninstalling spacy-2.2.4:\n",
            "      Successfully uninstalled spacy-2.2.4\n",
            "Successfully installed datasets-1.6.2 elasticsearch-7.13.1 fsspec-2021.6.0 gensim-3.8.3 huggingface-hub-0.0.10 medcat-1.0.33 numpy-1.20.3 sacremoses-0.0.45 scipy-1.6.3 spacy-2.3.4 thinc-7.4.5 tokenizers-0.10.3 transformers-4.5.1 xxhash-2.0.2\n"
          ],
          "name": "stdout"
        },
        {
          "output_type": "display_data",
          "data": {
            "application/vnd.colab-display-data+json": {
              "pip_warning": {
                "packages": [
                  "numpy"
                ]
              }
            }
          },
          "metadata": {
            "tags": []
          }
        },
        {
          "output_type": "stream",
          "text": [
            "Collecting https://s3-us-west-2.amazonaws.com/ai2-s2-scispacy/releases/v0.2.4/en_core_sci_md-0.2.4.tar.gz\n",
            "\u001b[?25l  Downloading https://s3-us-west-2.amazonaws.com/ai2-s2-scispacy/releases/v0.2.4/en_core_sci_md-0.2.4.tar.gz (70.0MB)\n",
            "\u001b[K     |████████████████████████████████| 70.0MB 56kB/s \n",
            "\u001b[?25hRequirement already satisfied: spacy>=2.2.1 in /usr/local/lib/python3.7/dist-packages (from en-core-sci-md==0.2.4) (2.3.4)\n",
            "Requirement already satisfied: requests<3.0.0,>=2.13.0 in /usr/local/lib/python3.7/dist-packages (from spacy>=2.2.1->en-core-sci-md==0.2.4) (2.23.0)\n",
            "Requirement already satisfied: numpy>=1.15.0 in /usr/local/lib/python3.7/dist-packages (from spacy>=2.2.1->en-core-sci-md==0.2.4) (1.20.3)\n",
            "Requirement already satisfied: preshed<3.1.0,>=3.0.2 in /usr/local/lib/python3.7/dist-packages (from spacy>=2.2.1->en-core-sci-md==0.2.4) (3.0.5)\n",
            "Requirement already satisfied: wasabi<1.1.0,>=0.4.0 in /usr/local/lib/python3.7/dist-packages (from spacy>=2.2.1->en-core-sci-md==0.2.4) (0.8.2)\n",
            "Requirement already satisfied: plac<1.2.0,>=0.9.6 in /usr/local/lib/python3.7/dist-packages (from spacy>=2.2.1->en-core-sci-md==0.2.4) (1.1.3)\n",
            "Requirement already satisfied: tqdm<5.0.0,>=4.38.0 in /usr/local/lib/python3.7/dist-packages (from spacy>=2.2.1->en-core-sci-md==0.2.4) (4.41.1)\n",
            "Requirement already satisfied: setuptools in /usr/local/lib/python3.7/dist-packages (from spacy>=2.2.1->en-core-sci-md==0.2.4) (57.0.0)\n",
            "Requirement already satisfied: catalogue<1.1.0,>=0.0.7 in /usr/local/lib/python3.7/dist-packages (from spacy>=2.2.1->en-core-sci-md==0.2.4) (1.0.0)\n",
            "Requirement already satisfied: srsly<1.1.0,>=1.0.2 in /usr/local/lib/python3.7/dist-packages (from spacy>=2.2.1->en-core-sci-md==0.2.4) (1.0.5)\n",
            "Requirement already satisfied: blis<0.8.0,>=0.4.0; python_version >= \"3.6\" in /usr/local/lib/python3.7/dist-packages (from spacy>=2.2.1->en-core-sci-md==0.2.4) (0.4.1)\n",
            "Requirement already satisfied: thinc<7.5.0,>=7.4.1 in /usr/local/lib/python3.7/dist-packages (from spacy>=2.2.1->en-core-sci-md==0.2.4) (7.4.5)\n",
            "Requirement already satisfied: cymem<2.1.0,>=2.0.2 in /usr/local/lib/python3.7/dist-packages (from spacy>=2.2.1->en-core-sci-md==0.2.4) (2.0.5)\n",
            "Requirement already satisfied: murmurhash<1.1.0,>=0.28.0 in /usr/local/lib/python3.7/dist-packages (from spacy>=2.2.1->en-core-sci-md==0.2.4) (1.0.5)\n",
            "Requirement already satisfied: idna<3,>=2.5 in /usr/local/lib/python3.7/dist-packages (from requests<3.0.0,>=2.13.0->spacy>=2.2.1->en-core-sci-md==0.2.4) (2.10)\n",
            "Requirement already satisfied: certifi>=2017.4.17 in /usr/local/lib/python3.7/dist-packages (from requests<3.0.0,>=2.13.0->spacy>=2.2.1->en-core-sci-md==0.2.4) (2021.5.30)\n",
            "Requirement already satisfied: chardet<4,>=3.0.2 in /usr/local/lib/python3.7/dist-packages (from requests<3.0.0,>=2.13.0->spacy>=2.2.1->en-core-sci-md==0.2.4) (3.0.4)\n",
            "Requirement already satisfied: urllib3!=1.25.0,!=1.25.1,<1.26,>=1.21.1 in /usr/local/lib/python3.7/dist-packages (from requests<3.0.0,>=2.13.0->spacy>=2.2.1->en-core-sci-md==0.2.4) (1.24.3)\n",
            "Requirement already satisfied: importlib-metadata>=0.20; python_version < \"3.8\" in /usr/local/lib/python3.7/dist-packages (from catalogue<1.1.0,>=0.0.7->spacy>=2.2.1->en-core-sci-md==0.2.4) (4.5.0)\n",
            "Requirement already satisfied: typing-extensions>=3.6.4; python_version < \"3.8\" in /usr/local/lib/python3.7/dist-packages (from importlib-metadata>=0.20; python_version < \"3.8\"->catalogue<1.1.0,>=0.0.7->spacy>=2.2.1->en-core-sci-md==0.2.4) (3.7.4.3)\n",
            "Requirement already satisfied: zipp>=0.5 in /usr/local/lib/python3.7/dist-packages (from importlib-metadata>=0.20; python_version < \"3.8\"->catalogue<1.1.0,>=0.0.7->spacy>=2.2.1->en-core-sci-md==0.2.4) (3.4.1)\n",
            "Building wheels for collected packages: en-core-sci-md\n",
            "  Building wheel for en-core-sci-md (setup.py) ... \u001b[?25l\u001b[?25hdone\n",
            "  Created wheel for en-core-sci-md: filename=en_core_sci_md-0.2.4-cp37-none-any.whl size=70498246 sha256=6d2f4f6bad6505786e1eef718364d00f9a3f5f0d97ec2fecc2bcc00f770b4542\n",
            "  Stored in directory: /root/.cache/pip/wheels/12/b3/89/7fbb30f56411e8b4002eac6d5568ab46da63191a2287aa17bf\n",
            "Successfully built en-core-sci-md\n",
            "Installing collected packages: en-core-sci-md\n",
            "Successfully installed en-core-sci-md-0.2.4\n"
          ],
          "name": "stdout"
        }
      ]
    },
    {
      "cell_type": "markdown",
      "metadata": {
        "id": "8dFRtweUVdBI"
      },
      "source": [
        "**Restart the runtime if on colab, sometimes necessary after installing models**"
      ]
    },
    {
      "cell_type": "code",
      "metadata": {
        "colab": {
          "base_uri": "https://localhost:8080/"
        },
        "id": "z1g2XnneVUc8",
        "outputId": "b67542b2-2ded-4ce8-bbc6-3689bf9ea99a"
      },
      "source": [
        "import pandas as pd\n",
        "import numpy as np\n",
        "import seaborn as sns\n",
        "from matplotlib import pyplot as plt\n",
        "import json \n",
        "\n",
        "from medcat.cat import CAT\n",
        "from medcat.cdb import CDB\n",
        "from medcat.config import Config\n",
        "from medcat.utils.vocab import Vocab\n",
        "from medcat.meta_cat import MetaCAT\n",
        "from medcat.preprocessing.tokenizers import TokenizerWrapperBPE\n",
        "from tokenizers import ByteLevelBPETokenizer"
      ],
      "execution_count": null,
      "outputs": [
        {
          "output_type": "stream",
          "text": [
            "/usr/local/lib/python3.7/dist-packages/medcat/cat.py:7: TqdmExperimentalWarning: Using `tqdm.autonotebook.tqdm` in notebook mode. Use `tqdm.tqdm` instead to force console mode (e.g. in jupyter console)\n",
            "  from tqdm.autonotebook import tqdm\n"
          ],
          "name": "stderr"
        }
      ]
    },
    {
      "cell_type": "code",
      "metadata": {
        "id": "hbSB48yrVW10"
      },
      "source": [
        "DATA_DIR = \"./data/\"\n",
        "MODEL_DIR = \"./models/\"\n",
        "vocab_path = MODEL_DIR + \"vocab.dat\"\n",
        "cdb_path = MODEL_DIR + \"cdb-medmen-v1.dat\""
      ],
      "execution_count": null,
      "outputs": []
    },
    {
      "cell_type": "code",
      "metadata": {
        "colab": {
          "base_uri": "https://localhost:8080/"
        },
        "id": "PF6oNFg7VY-b",
        "outputId": "309ab7dc-6125-4f91-d6a7-cf1c3efc5789"
      },
      "source": [
        "# Download the models and required data\n",
        "!wget https://raw.githubusercontent.com/CogStack/MedCAT/master/tutorial/data/pt_notes.csv -P ./data/\n",
        "!wget https://raw.githubusercontent.com/CogStack/MedCAT/master/tutorial/data/MedCAT_Export.json -P ./data/\n",
        "# You can also use the models created in Part 4.1 of the Tutorial\n",
        "!wget https://medcat.rosalind.kcl.ac.uk/media/mc_status.zip -P ./models/\n",
        "\n",
        "# Get MedCAT models\n",
        "!wget https://medcat.rosalind.kcl.ac.uk/media/vocab.dat -P ./models/\n",
        "!wget https://medcat.rosalind.kcl.ac.uk/media/cdb-medmen-v1.dat -P ./models/"
      ],
      "execution_count": null,
      "outputs": [
        {
          "output_type": "stream",
          "text": [
            "--2021-06-10 23:13:53--  https://raw.githubusercontent.com/CogStack/MedCAT/master/tutorial/data/pt_notes.csv\n",
            "Resolving raw.githubusercontent.com (raw.githubusercontent.com)... 185.199.108.133, 185.199.109.133, 185.199.110.133, ...\n",
            "Connecting to raw.githubusercontent.com (raw.githubusercontent.com)|185.199.108.133|:443... connected.\n",
            "HTTP request sent, awaiting response... 200 OK\n",
            "Length: 3644222 (3.5M) [text/plain]\n",
            "Saving to: ‘./data/pt_notes.csv’\n",
            "\n",
            "pt_notes.csv        100%[===================>]   3.47M  14.5MB/s    in 0.2s    \n",
            "\n",
            "2021-06-10 23:13:53 (14.5 MB/s) - ‘./data/pt_notes.csv’ saved [3644222/3644222]\n",
            "\n",
            "--2021-06-10 23:13:53--  https://raw.githubusercontent.com/CogStack/MedCAT/master/tutorial/data/MedCAT_Export.json\n",
            "Resolving raw.githubusercontent.com (raw.githubusercontent.com)... 185.199.109.133, 185.199.110.133, 185.199.108.133, ...\n",
            "Connecting to raw.githubusercontent.com (raw.githubusercontent.com)|185.199.109.133|:443... connected.\n",
            "HTTP request sent, awaiting response... 200 OK\n",
            "Length: 272538 (266K) [text/plain]\n",
            "Saving to: ‘./data/MedCAT_Export.json’\n",
            "\n",
            "MedCAT_Export.json  100%[===================>] 266.15K  --.-KB/s    in 0.06s   \n",
            "\n",
            "2021-06-10 23:13:54 (4.58 MB/s) - ‘./data/MedCAT_Export.json’ saved [272538/272538]\n",
            "\n",
            "--2021-06-10 23:13:54--  https://medcat.rosalind.kcl.ac.uk/media/mc_status.zip\n",
            "Resolving medcat.rosalind.kcl.ac.uk (medcat.rosalind.kcl.ac.uk)... 193.61.202.225\n",
            "Connecting to medcat.rosalind.kcl.ac.uk (medcat.rosalind.kcl.ac.uk)|193.61.202.225|:443... connected.\n",
            "HTTP request sent, awaiting response... 200 OK\n",
            "Length: 178367400 (170M) [application/zip]\n",
            "Saving to: ‘./models/mc_status.zip’\n",
            "\n",
            "mc_status.zip       100%[===================>] 170.10M  21.2MB/s    in 9.7s    \n",
            "\n",
            "2021-06-10 23:14:04 (17.6 MB/s) - ‘./models/mc_status.zip’ saved [178367400/178367400]\n",
            "\n",
            "--2021-06-10 23:14:04--  https://medcat.rosalind.kcl.ac.uk/media/vocab.dat\n",
            "Resolving medcat.rosalind.kcl.ac.uk (medcat.rosalind.kcl.ac.uk)... 193.61.202.225\n",
            "Connecting to medcat.rosalind.kcl.ac.uk (medcat.rosalind.kcl.ac.uk)|193.61.202.225|:443... connected.\n",
            "HTTP request sent, awaiting response... 200 OK\n",
            "Length: 274445907 (262M) [application/octet-stream]\n",
            "Saving to: ‘./models/vocab.dat’\n",
            "\n",
            "vocab.dat           100%[===================>] 261.73M  31.2MB/s    in 9.2s    \n",
            "\n",
            "2021-06-10 23:14:14 (28.6 MB/s) - ‘./models/vocab.dat’ saved [274445907/274445907]\n",
            "\n",
            "--2021-06-10 23:14:14--  https://medcat.rosalind.kcl.ac.uk/media/cdb-medmen-v1.dat\n",
            "Resolving medcat.rosalind.kcl.ac.uk (medcat.rosalind.kcl.ac.uk)... 193.61.202.225\n",
            "Connecting to medcat.rosalind.kcl.ac.uk (medcat.rosalind.kcl.ac.uk)|193.61.202.225|:443... connected.\n",
            "HTTP request sent, awaiting response... 200 OK\n",
            "Length: 356087008 (340M) [application/octet-stream]\n",
            "Saving to: ‘./models/cdb-medmen-v1.dat’\n",
            "\n",
            "cdb-medmen-v1.dat   100%[===================>] 339.59M  31.4MB/s    in 12s     \n",
            "\n",
            "2021-06-10 23:14:26 (29.3 MB/s) - ‘./models/cdb-medmen-v1.dat’ saved [356087008/356087008]\n",
            "\n"
          ],
          "name": "stdout"
        }
      ]
    },
    {
      "cell_type": "code",
      "metadata": {
        "colab": {
          "base_uri": "https://localhost:8080/"
        },
        "id": "hWM07g5xatHO",
        "outputId": "fe111ee8-69d1-43a7-89fc-f2e25719e121"
      },
      "source": [
        "# Unzip the status model\n",
        "!unzip ./models/mc_status.zip"
      ],
      "execution_count": null,
      "outputs": [
        {
          "output_type": "stream",
          "text": [
            "Archive:  ./models/mc_status.zip\n",
            "   creating: mc_status/\n",
            "  inflating: mc_status/vars.dat      \n",
            "  inflating: mc_status/embeddings.npy  \n",
            "   creating: mc_status/bert/\n",
            "  inflating: mc_status/bert/tokenizer_config.json  \n",
            "  inflating: mc_status/bert/vocab.txt  \n",
            "  inflating: mc_status/bert/special_tokens_map.json  \n",
            "  inflating: mc_status/lstm.dat      \n"
          ],
          "name": "stdout"
        }
      ]
    },
    {
      "cell_type": "code",
      "metadata": {
        "colab": {
          "base_uri": "https://localhost:8080/"
        },
        "id": "TvvCIyv0afMZ",
        "outputId": "f7cf3e36-b922-41db-fcb9-c350fcf90436"
      },
      "source": [
        "# Create and load the CDB (Concept Database)\n",
        "# The model we want to load here is the one fine-tuned in Part 4.2\n",
        "cdb = CDB.load(cdb_path)\n",
        "\n",
        "# Create and load the Vocabulary\n",
        "vocab = Vocab.load(vocab_path)\n",
        "\n",
        "# Config\n",
        "config = Config()\n",
        "config.general['spacy_model'] = 'en_core_sci_md'\n",
        "\n",
        "tui_filter = ['T047', 'T048'] # Detect only Disease and Mental Disorders\n",
        "cui_filters = set()\n",
        "for tui in tui_filter:\n",
        "  cui_filters.update(cdb.addl_info['type_id2cuis'][tui])\n",
        "config.linking['filters']['cuis'] = cui_filters\n",
        "\n",
        "\n",
        "# Get the status model for meta_annotations\n",
        "mc_status = MetaCAT.load(\"mc_status\")\n",
        "\n",
        "# Create the full pipeline with models for meta-annotations\n",
        "cat = CAT(cdb=cdb, config=config, vocab=vocab, meta_cats=[mc_status])"
      ],
      "execution_count": null,
      "outputs": [
        {
          "output_type": "stream",
          "text": [
            "/usr/local/lib/python3.7/dist-packages/spacy/util.py:275: UserWarning: [W031] Model 'en_core_sci_md' (0.2.4) requires spaCy v2.2 and is incompatible with the current spaCy version (2.3.4). This may lead to unexpected results or runtime errors. To resolve this, download a newer compatible model or retrain your custom model with the current spaCy version. For more details and available updates, run: python -m spacy validate\n",
            "  warnings.warn(warn_msg)\n"
          ],
          "name": "stderr"
        }
      ]
    },
    {
      "cell_type": "code",
      "metadata": {
        "colab": {
          "base_uri": "https://localhost:8080/"
        },
        "id": "c486q-1ybHnB",
        "outputId": "a0762eea-7b66-4653-e305-06aa2d12d195"
      },
      "source": [
        "!wget https://raw.githubusercontent.com/CogStack/MedCAT/master/tutorial/data/pt_notes.csv -P ./data/"
      ],
      "execution_count": null,
      "outputs": [
        {
          "output_type": "stream",
          "text": [
            "--2021-06-10 23:21:21--  https://raw.githubusercontent.com/CogStack/MedCAT/master/tutorial/data/pt_notes.csv\n",
            "Resolving raw.githubusercontent.com (raw.githubusercontent.com)... 185.199.108.133, 185.199.109.133, 185.199.110.133, ...\n",
            "Connecting to raw.githubusercontent.com (raw.githubusercontent.com)|185.199.108.133|:443... connected.\n",
            "HTTP request sent, awaiting response... 200 OK\n",
            "Length: 3644222 (3.5M) [text/plain]\n",
            "Saving to: ‘./data/pt_notes.csv.1’\n",
            "\n",
            "pt_notes.csv.1      100%[===================>]   3.47M  14.4MB/s    in 0.2s    \n",
            "\n",
            "2021-06-10 23:21:22 (14.4 MB/s) - ‘./data/pt_notes.csv.1’ saved [3644222/3644222]\n",
            "\n"
          ],
          "name": "stdout"
        }
      ]
    },
    {
      "cell_type": "markdown",
      "metadata": {
        "id": "fD81Ymjpbxys"
      },
      "source": [
        "## Document annotation\n",
        "\n",
        "The following is a replica of the document annotation code done in [Part 3.2.](https://colab.research.google.com/drive/1q29RbHlZoFK7TcvMKITi3ABbE-E_fw30), with the only change that we have meta-annotations now."
      ]
    },
    {
      "cell_type": "code",
      "metadata": {
        "id": "LTo-MMIFbmQn"
      },
      "source": [
        "# This will be a map from CUI to a list of documents where it appears: {\"cui\": [<doc_id>, <doc_id>, ...], ..}\n",
        "cui_location = {}\n",
        "# Let's also save the TUI location (semantic type)\n",
        "tui_location = {}"
      ],
      "execution_count": null,
      "outputs": []
    },
    {
      "cell_type": "code",
      "metadata": {
        "colab": {
          "base_uri": "https://localhost:8080/",
          "height": 442
        },
        "id": "ZwZZc6JEcHda",
        "outputId": "e026fa68-ed95-4933-d11c-9d3a68bdac78"
      },
      "source": [
        "# Load the data \n",
        "data = pd.read_csv(DATA_DIR + \"pt_notes.csv\")\n",
        "data.head()"
      ],
      "execution_count": null,
      "outputs": [
        {
          "output_type": "execute_result",
          "data": {
            "text/html": [
              "<div>\n",
              "<style scoped>\n",
              "    .dataframe tbody tr th:only-of-type {\n",
              "        vertical-align: middle;\n",
              "    }\n",
              "\n",
              "    .dataframe tbody tr th {\n",
              "        vertical-align: top;\n",
              "    }\n",
              "\n",
              "    .dataframe thead th {\n",
              "        text-align: right;\n",
              "    }\n",
              "</style>\n",
              "<table border=\"1\" class=\"dataframe\">\n",
              "  <thead>\n",
              "    <tr style=\"text-align: right;\">\n",
              "      <th></th>\n",
              "      <th>Unnamed: 0_x</th>\n",
              "      <th>subject_id</th>\n",
              "      <th>chartdate</th>\n",
              "      <th>category</th>\n",
              "      <th>text</th>\n",
              "      <th>create_year</th>\n",
              "      <th>Unnamed: 0_y</th>\n",
              "      <th>gender</th>\n",
              "      <th>dob</th>\n",
              "      <th>dob_year</th>\n",
              "      <th>age_year</th>\n",
              "    </tr>\n",
              "  </thead>\n",
              "  <tbody>\n",
              "    <tr>\n",
              "      <th>0</th>\n",
              "      <td>6</td>\n",
              "      <td>1</td>\n",
              "      <td>2079-01-01</td>\n",
              "      <td>General Medicine</td>\n",
              "      <td>HISTORY OF PRESENT ILLNESS:, The patient is a ...</td>\n",
              "      <td>2079</td>\n",
              "      <td>1</td>\n",
              "      <td>F</td>\n",
              "      <td>2018-01-01</td>\n",
              "      <td>2018</td>\n",
              "      <td>61</td>\n",
              "    </tr>\n",
              "    <tr>\n",
              "      <th>1</th>\n",
              "      <td>7</td>\n",
              "      <td>1</td>\n",
              "      <td>2079-01-01</td>\n",
              "      <td>Rheumatology</td>\n",
              "      <td>HISTORY OF PRESENT ILLNESS: , A 71-year-old fe...</td>\n",
              "      <td>2079</td>\n",
              "      <td>1</td>\n",
              "      <td>F</td>\n",
              "      <td>2018-01-01</td>\n",
              "      <td>2018</td>\n",
              "      <td>61</td>\n",
              "    </tr>\n",
              "    <tr>\n",
              "      <th>2</th>\n",
              "      <td>8</td>\n",
              "      <td>1</td>\n",
              "      <td>2079-01-01</td>\n",
              "      <td>Consult - History and Phy.</td>\n",
              "      <td>HISTORY OF PRESENT ILLNESS:, The patient is a ...</td>\n",
              "      <td>2079</td>\n",
              "      <td>1</td>\n",
              "      <td>F</td>\n",
              "      <td>2018-01-01</td>\n",
              "      <td>2018</td>\n",
              "      <td>61</td>\n",
              "    </tr>\n",
              "    <tr>\n",
              "      <th>3</th>\n",
              "      <td>9</td>\n",
              "      <td>2</td>\n",
              "      <td>2037-01-01</td>\n",
              "      <td>Consult - History and Phy.</td>\n",
              "      <td>CHIEF COMPLAINT:,1.  Infection.,2.  Pelvic pai...</td>\n",
              "      <td>2037</td>\n",
              "      <td>2</td>\n",
              "      <td>F</td>\n",
              "      <td>2018-01-01</td>\n",
              "      <td>2018</td>\n",
              "      <td>19</td>\n",
              "    </tr>\n",
              "    <tr>\n",
              "      <th>4</th>\n",
              "      <td>10</td>\n",
              "      <td>2</td>\n",
              "      <td>2037-01-01</td>\n",
              "      <td>Dermatology</td>\n",
              "      <td>SUBJECTIVE:,  This is a 29-year-old Vietnamese...</td>\n",
              "      <td>2037</td>\n",
              "      <td>2</td>\n",
              "      <td>F</td>\n",
              "      <td>2018-01-01</td>\n",
              "      <td>2018</td>\n",
              "      <td>19</td>\n",
              "    </tr>\n",
              "  </tbody>\n",
              "</table>\n",
              "</div>"
            ],
            "text/plain": [
              "   Unnamed: 0_x  subject_id   chartdate  ...         dob dob_year  age_year\n",
              "0             6           1  2079-01-01  ...  2018-01-01     2018        61\n",
              "1             7           1  2079-01-01  ...  2018-01-01     2018        61\n",
              "2             8           1  2079-01-01  ...  2018-01-01     2018        61\n",
              "3             9           2  2037-01-01  ...  2018-01-01     2018        19\n",
              "4            10           2  2037-01-01  ...  2018-01-01     2018        19\n",
              "\n",
              "[5 rows x 11 columns]"
            ]
          },
          "metadata": {
            "tags": []
          },
          "execution_count": 10
        }
      ]
    },
    {
      "cell_type": "code",
      "metadata": {
        "colab": {
          "base_uri": "https://localhost:8080/"
        },
        "id": "8Nw6WVwCOu8j",
        "outputId": "a47bc616-ecbc-4ebb-a9b6-861b62f9bbbe"
      },
      "source": [
        "data.shape"
      ],
      "execution_count": null,
      "outputs": [
        {
          "output_type": "execute_result",
          "data": {
            "text/plain": [
              "(1088, 11)"
            ]
          },
          "metadata": {
            "tags": []
          },
          "execution_count": 11
        }
      ]
    },
    {
      "cell_type": "code",
      "metadata": {
        "colab": {
          "base_uri": "https://localhost:8080/"
        },
        "id": "1q3hQV2ZcKOy",
        "outputId": "7a6ae75c-2153-42af-85c8-8f01bf77cebe"
      },
      "source": [
        "batch_size = 100\n",
        "batch = []\n",
        "cnt = 0\n",
        "for id, row in data.iterrows():\n",
        "    text = row['text']\n",
        "    # Skip text if under 10 characters, not really necessary as we have filtered before,\n",
        "    #but I like to be sure.\n",
        "    if len(text) > 10:\n",
        "        batch.append((id, text))\n",
        "    \n",
        "    if len(batch) > batch_size or id == len(data) - 1:\n",
        "        # Update the number of processors depending on your machine.\n",
        "        results = cat.multiprocessing(batch, nproc=8)\n",
        "        \n",
        "        for pair in results:\n",
        "            row_id = pair[0]\n",
        "            entities = pair[1]['entities'] # Convert to set to get unique CUIs\n",
        "\n",
        "            for entity in entities.values():\n",
        "                cui = entity['cui']\n",
        "                # We know there is only one meta annotation for status and\n",
        "                #here we grab its value\n",
        "                status = entity['meta_anns']['Status']['value']\n",
        "\n",
        "                # Only if status if confirmed we take the entity into account\n",
        "                if status == 'Confirmed':\n",
        "                  if cui in cui_location and row_id not in cui_location[cui]:\n",
        "                      cui_location[cui].append(row_id)\n",
        "                  else:\n",
        "                      cui_location[cui] = [row_id]\n",
        "\n",
        "                  # This is not necessary as it can be done later, we have\n",
        "                  #the cdb.cui2tui map.\n",
        "                  tuis = cdb.cui2type_ids[cui] \n",
        "                  for tui in tuis:\n",
        "                    if tui in tui_location and row_id not in tui_location[tui]:\n",
        "                        tui_location[tui].append(row_id)\n",
        "                    elif tui not in tui_location:\n",
        "                        tui_location[tui] = [row_id]\n",
        "        \n",
        "        cnt += 1\n",
        "        print(\"Done: {} - rows\".format((cnt -1)*batch_size + len(batch)))\n",
        "        \n",
        "        # Reset the batch\n",
        "        batch = []"
      ],
      "execution_count": null,
      "outputs": [
        {
          "output_type": "stream",
          "text": [
            "Done: 101 - rows\n",
            "Done: 201 - rows\n",
            "Done: 301 - rows\n",
            "Done: 401 - rows\n",
            "Done: 501 - rows\n",
            "Done: 601 - rows\n",
            "Done: 701 - rows\n",
            "Done: 801 - rows\n",
            "Done: 901 - rows\n",
            "Done: 1001 - rows\n",
            "Done: 1078 - rows\n"
          ],
          "name": "stdout"
        }
      ]
    },
    {
      "cell_type": "markdown",
      "metadata": {
        "id": "jn6Ay2abd1Ud"
      },
      "source": [
        "## Done\n",
        "\n",
        "We have now annotated all documents in our dataset and for each CUI (Concept identifier) we know in which document it appers. We also know that all the detected entities have the status \"Confirmed\". \n",
        "\n",
        "---\n",
        "\n",
        "Please note that the number of examples I have provided is not enough to fully train the \"Status\" meta-annotation and one would need to provide more."
      ]
    },
    {
      "cell_type": "code",
      "metadata": {
        "colab": {
          "base_uri": "https://localhost:8080/"
        },
        "id": "xJ4-NFEjeslB",
        "outputId": "c2b654ef-3a29-4457-e4ff-37a89beeae37"
      },
      "source": [
        "# For example, the concept with CUI: C0020538 (hypertension) appears in\n",
        "cui_location['C0020538']"
      ],
      "execution_count": null,
      "outputs": [
        {
          "output_type": "execute_result",
          "data": {
            "text/plain": [
              "[563, 684, 757, 758, 760, 898]"
            ]
          },
          "metadata": {
            "tags": []
          },
          "execution_count": 10
        }
      ]
    },
    {
      "cell_type": "code",
      "metadata": {
        "id": "qfGq51rsAVur"
      },
      "source": [
        "# Save concept location in corpus\n",
        "import json\n",
        "json.dump(cui_location, open(\"./cui_location.json\", 'w'))"
      ],
      "execution_count": null,
      "outputs": []
    },
    {
      "cell_type": "code",
      "metadata": {
        "colab": {
          "base_uri": "https://localhost:8080/",
          "height": 164
        },
        "id": "VEGAdTIFZkbJ",
        "outputId": "3c0d4410-69d5-47d7-f7d0-e20f6d41b525"
      },
      "source": [
        "?? TODO is now missing...\n",
        "cui_location['C0020538']"
      ],
      "execution_count": null,
      "outputs": [
        {
          "output_type": "error",
          "ename": "KeyError",
          "evalue": "ignored",
          "traceback": [
            "\u001b[0;31m---------------------------------------------------------------------------\u001b[0m",
            "\u001b[0;31mKeyError\u001b[0m                                  Traceback (most recent call last)",
            "\u001b[0;32m<ipython-input-18-2568c9f01f98>\u001b[0m in \u001b[0;36m<module>\u001b[0;34m()\u001b[0m\n\u001b[0;32m----> 1\u001b[0;31m \u001b[0mcui_location\u001b[0m\u001b[0;34m[\u001b[0m\u001b[0;34m'C0020538'\u001b[0m\u001b[0;34m]\u001b[0m\u001b[0;34m\u001b[0m\u001b[0;34m\u001b[0m\u001b[0m\n\u001b[0m",
            "\u001b[0;31mKeyError\u001b[0m: 'C0020538'"
          ]
        }
      ]
    }
  ]
}